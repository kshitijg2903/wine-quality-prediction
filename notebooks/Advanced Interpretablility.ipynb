{
 "cells": [
  {
   "cell_type": "code",
   "execution_count": 20,
   "metadata": {},
   "outputs": [],
   "source": [
    "import numpy as np\n",
    "import pandas as pd\n",
    "import tensorflow as tf\n",
    "from sklearn.model_selection import train_test_split\n",
    "from sklearn.preprocessing import OneHotEncoder"
   ]
  },
  {
   "cell_type": "code",
   "execution_count": 21,
   "metadata": {},
   "outputs": [
    {
     "name": "stdout",
     "output_type": "stream",
     "text": [
      "X_train shape: (2318, 11), y_train shape: (2318, 6)\n"
     ]
    }
   ],
   "source": [
    "# Load the dataset (using your provided data as an example)\n",
    "df = pd.read_csv(\"F:\\ML\\Wine-Quality-Prediction\\data\\wine_quality_processed.csv\")\n",
    "X = df.drop(columns=['quality']).values\n",
    "y = df['quality'].values\n",
    "\n",
    "# Convert quality to categorical\n",
    "encoder = OneHotEncoder(sparse_output=False)  # Updated parameter name\n",
    "y_categorical = encoder.fit_transform(y.reshape(-1, 1))\n",
    "\n",
    "# Train-test split\n",
    "X_train, X_test, y_train, y_test = train_test_split(X, y_categorical, test_size=0.2, random_state=42)\n",
    "\n",
    "# Check shapes\n",
    "print(f\"X_train shape: {X_train.shape}, y_train shape: {y_train.shape}\")\n"
   ]
  },
  {
   "cell_type": "code",
   "execution_count": 22,
   "metadata": {},
   "outputs": [
    {
     "name": "stderr",
     "output_type": "stream",
     "text": [
      "c:\\Users\\hp\\AppData\\Local\\Programs\\Python\\Python310\\lib\\site-packages\\keras\\src\\layers\\core\\dense.py:86: UserWarning: Do not pass an `input_shape`/`input_dim` argument to a layer. When using Sequential models, prefer using an `Input(shape)` object as the first layer in the model instead.\n",
      "  super().__init__(activity_regularizer=activity_regularizer, **kwargs)\n"
     ]
    },
    {
     "name": "stdout",
     "output_type": "stream",
     "text": [
      "Test Loss: 0.4675, Test Accuracy: 0.8517\n"
     ]
    }
   ],
   "source": [
    "# Build the classification neural network\n",
    "model = tf.keras.Sequential([\n",
    "    tf.keras.layers.Dense(64, activation='relu', input_shape=(X_train.shape[1],)),\n",
    "    tf.keras.layers.Dense(32, activation='relu'),\n",
    "    tf.keras.layers.Dense(y_train.shape[1], activation='softmax')  # Output layer for classification\n",
    "])\n",
    "model.compile(optimizer='adam', loss='categorical_crossentropy', metrics=['accuracy'])\n",
    "\n",
    "# Train the model\n",
    "model.fit(X_train, y_train, epochs=50, batch_size=8, verbose=0, validation_split=0.1)\n",
    "\n",
    "# Evaluate the model\n",
    "test_loss, test_accuracy = model.evaluate(X_test, y_test, verbose=0)\n",
    "print(f\"Test Loss: {test_loss:.4f}, Test Accuracy: {test_accuracy:.4f}\")"
   ]
  },
  {
   "cell_type": "code",
   "execution_count": 23,
   "metadata": {},
   "outputs": [],
   "source": [
    "def activation_maximization_classification(target_class, model, iterations=500, learning_rate=0.01):\n",
    "    # Start with a random input vector\n",
    "    input_vector = tf.Variable(np.random.normal(size=(1, X_train.shape[1])), dtype=tf.float32)\n",
    "\n",
    "    # Define the optimizer\n",
    "    optimizer = tf.keras.optimizers.Adam(learning_rate=learning_rate)\n",
    "\n",
    "    # Gradient ascent loop\n",
    "    for i in range(iterations):\n",
    "        with tf.GradientTape() as tape:\n",
    "            # Predict probabilities for the input vector\n",
    "            prediction = model(input_vector)\n",
    "            # Loss is the negative log probability of the target class\n",
    "            loss = -tf.math.log(prediction[0, target_class] + 1e-8)\n",
    "\n",
    "        # Compute gradients and update input vector\n",
    "        grads = tape.gradient(loss, input_vector)\n",
    "        optimizer.apply_gradients([(grads, input_vector)])\n",
    "\n",
    "        # Clip values to ensure realistic inputs\n",
    "        input_vector.assign(tf.clip_by_value(input_vector, -3, 3))\n",
    "\n",
    "    return input_vector.numpy().flatten()"
   ]
  },
  {
   "cell_type": "code",
   "execution_count": 24,
   "metadata": {},
   "outputs": [
    {
     "name": "stdout",
     "output_type": "stream",
     "text": [
      "Optimized Input for Class 0 (Quality 3): [ 0.38748193  0.04999524  0.49698764 -0.4817729   1.3638119  -0.9415769\n",
      " -1.0848961  -0.4249435   0.30951044  0.754299   -1.2895449 ]\n",
      "Optimized Input for Class 1 (Quality 4): [ 0.10530781  1.1029971   1.2180761  -0.9723002  -0.7218239   0.37776414\n",
      "  0.87326163 -1.6168528  -0.17493287  1.3660377  -1.6912322 ]\n",
      "Optimized Input for Class 2 (Quality 5): [-2.8948002  -1.2893075   2.3054168   0.07964412 -0.6151767  -0.15165144\n",
      " -0.6584979   0.01741432 -0.23442198  1.0971041  -2.039202  ]\n",
      "Optimized Input for Class 3 (Quality 6): [-1.6629272   0.66497386 -0.08048213  1.39567     2.7370055  -0.47814214\n",
      "  0.50294423 -1.2171702  -1.1457922   0.09598751 -0.06951897]\n",
      "Optimized Input for Class 4 (Quality 7): [ 1.6053342   0.9350312  -0.82308364  1.6216229  -0.8078967  -1.7058928\n",
      " -1.2533605  -0.27629316  0.47818202  0.6306382  -0.40634376]\n",
      "Optimized Input for Class 5 (Quality 8): [ 0.36506522 -0.23210868  1.1577822   0.00278777 -0.7656591   0.7262541\n",
      " -0.79746425 -0.8942269  -1.6088842   0.83533823  0.69367635]\n"
     ]
    }
   ],
   "source": [
    "# unique values in the 'quality' column\n",
    "unique_qualities = sorted(df['quality'].unique())\n",
    "for quality in unique_qualities:\n",
    "    target_class = encoder.categories_[0].tolist().index(quality)  # Index of class '8'\n",
    "    optimized_input = activation_maximization_classification(target_class, model)\n",
    "    print(f\"Optimized Input for Class {target_class} (Quality {quality}): {optimized_input}\")"
   ]
  },
  {
   "cell_type": "code",
   "execution_count": 25,
   "metadata": {},
   "outputs": [],
   "source": [
    "def counterfactual_explanation_classification(input_instance, target_class, model, iterations=500, learning_rate=0.01):\n",
    "    # Convert the instance into a tensor\n",
    "    input_tensor = tf.Variable(input_instance.reshape(1, -1), dtype=tf.float32)\n",
    "\n",
    "    # Define the optimizer\n",
    "    optimizer = tf.keras.optimizers.Adam(learning_rate=learning_rate)\n",
    "\n",
    "    # Gradient descent loop\n",
    "    for i in range(iterations):\n",
    "        with tf.GradientTape() as tape:\n",
    "            # Predict probabilities\n",
    "            prediction = model(input_tensor)\n",
    "            # Loss is the negative log probability of the target class + minimal changes\n",
    "            loss = -tf.math.log(prediction[0, target_class] + 1e-8) + 0.01 * tf.reduce_sum(tf.square(input_tensor - input_instance))\n",
    "\n",
    "        # Compute gradients and update input tensor\n",
    "        grads = tape.gradient(loss, input_tensor)\n",
    "        optimizer.apply_gradients([(grads, input_tensor)])\n",
    "\n",
    "        # Clip the input values to realistic ranges\n",
    "        input_tensor.assign(tf.clip_by_value(input_tensor, -3, 3))\n",
    "\n",
    "    return input_tensor.numpy().flatten()\n"
   ]
  },
  {
   "cell_type": "code",
   "execution_count": 26,
   "metadata": {},
   "outputs": [
    {
     "name": "stdout",
     "output_type": "stream",
     "text": [
      "Original Instance: [ 1.59654248 -0.45300195  2.34810035  0.49275868 -0.44305005 -0.93846228\n",
      " -0.72982342  0.97160621 -0.90050392  0.01345795  0.70063152]\n",
      "True Class: 3\n",
      "Modified Instance for Class 5 (Quality 8): [ 1.6277124  -0.54907656  2.2424533   0.58880264 -0.64397824 -0.9718691\n",
      " -0.7299668   0.9086992  -1.0455141   0.1073776   0.7543377 ]\n",
      "\n",
      "Percentage Change in Each Attribute:\n",
      "Fixed Acidity: Original=1.5965, Modified=1.6277, Change=1.95%\n",
      "Volatile Acidity: Original=-0.4530, Modified=-0.5491, Change=21.21%\n",
      "Citric Acid: Original=2.3481, Modified=2.2425, Change=-4.50%\n",
      "Residual Sugar: Original=0.4928, Modified=0.5888, Change=19.49%\n",
      "Chlorides: Original=-0.4431, Modified=-0.6440, Change=45.35%\n",
      "Free Sulfur Dioxide: Original=-0.9385, Modified=-0.9719, Change=3.56%\n",
      "Total Sulfur Dioxide: Original=-0.7298, Modified=-0.7300, Change=0.02%\n",
      "Density: Original=0.9716, Modified=0.9087, Change=-6.47%\n",
      "pH: Original=-0.9005, Modified=-1.0455, Change=16.10%\n",
      "Sulphates: Original=0.0135, Modified=0.1074, Change=697.88%\n",
      "Alcohol: Original=0.7006, Modified=0.7543, Change=7.67%\n"
     ]
    }
   ],
   "source": [
    "# Perform Counterfactual Explanation\n",
    "index = 10\n",
    "instance = X_test[index]\n",
    "true_class = np.argmax(y_test[index])\n",
    "target_quality = 8  # Class '8' is the best quality\n",
    "target_class = encoder.categories_[0].tolist().index(target_quality)  # Index of class '8'\n",
    "\n",
    "# Get the modified instance\n",
    "modified_instance = counterfactual_explanation_classification(instance, target_class, model)\n",
    "\n",
    "# Attribute names\n",
    "attribute_names = [\n",
    "    \"Fixed Acidity\", \"Volatile Acidity\", \"Citric Acid\", \"Residual Sugar\", \n",
    "    \"Chlorides\", \"Free Sulfur Dioxide\", \"Total Sulfur Dioxide\", \n",
    "    \"Density\", \"pH\", \"Sulphates\", \"Alcohol\"\n",
    "]\n",
    "\n",
    "# Print original and modified instances\n",
    "print(f\"Original Instance: {instance}\")\n",
    "print(f\"True Class: {true_class}\")\n",
    "print(f\"Modified Instance for Class {target_class} (Quality {target_quality}): {modified_instance}\")\n",
    "\n",
    "# Compute percentage change for each attribute\n",
    "percentage_changes = ((modified_instance - instance) / instance) * 100\n",
    "\n",
    "# Print the percentage changes with attribute names\n",
    "print(\"\\nPercentage Change in Each Attribute:\")\n",
    "for i, (attr_name, original, modified, pct_change) in enumerate(zip(attribute_names, instance, modified_instance, percentage_changes)):\n",
    "    print(f\"{attr_name}: Original={original:.4f}, Modified={modified:.4f}, Change={pct_change:.2f}%\")\n"
   ]
  }
 ],
 "metadata": {
  "kernelspec": {
   "display_name": "Python 3",
   "language": "python",
   "name": "python3"
  },
  "language_info": {
   "codemirror_mode": {
    "name": "ipython",
    "version": 3
   },
   "file_extension": ".py",
   "mimetype": "text/x-python",
   "name": "python",
   "nbconvert_exporter": "python",
   "pygments_lexer": "ipython3",
   "version": "3.10.5"
  }
 },
 "nbformat": 4,
 "nbformat_minor": 2
}

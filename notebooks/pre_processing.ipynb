{
 "cells": [
  {
   "cell_type": "code",
   "execution_count": 1,
   "metadata": {},
   "outputs": [],
   "source": [
    "import pandas as pd\n",
    "from imblearn.over_sampling import SMOTE\n",
    "from collections import Counter\n",
    "from sklearn.preprocessing import StandardScaler"
   ]
  },
  {
   "cell_type": "code",
   "execution_count": 2,
   "metadata": {},
   "outputs": [],
   "source": [
    "# Function to load data from a CSV file\n",
    "def load_data(file_path):\n",
    "    dataframe = pd.read_csv(file_path)\n",
    "    return dataframe\n",
    "\n",
    "# Load your data\n",
    "dataframe = load_data(\"..\\data\\data_1.csv\")"
   ]
  },
  {
   "cell_type": "code",
   "execution_count": 3,
   "metadata": {},
   "outputs": [],
   "source": [
    "target = \"quality\"\n",
    "X = dataframe.drop([target, \"Id\"], axis=1)\n",
    "Y = dataframe[target]\n"
   ]
  },
  {
   "cell_type": "markdown",
   "metadata": {},
   "source": [
    "Standardization : mean 0 and variance 1"
   ]
  },
  {
   "cell_type": "code",
   "execution_count": 4,
   "metadata": {},
   "outputs": [],
   "source": [
    "# Standardize the features\n",
    "scaler = StandardScaler()\n",
    "X_scaled = scaler.fit_transform(X)"
   ]
  },
  {
   "cell_type": "markdown",
   "metadata": {},
   "source": [
    "Data Augmentation : SMOTE"
   ]
  },
  {
   "cell_type": "code",
   "execution_count": 5,
   "metadata": {},
   "outputs": [],
   "source": [
    "# Apply SMOTE to balance the training data\n",
    "smote = SMOTE(sampling_strategy='auto', random_state=42)\n",
    "X_resampled, Y_resampled = smote.fit_resample(X_scaled, Y)"
   ]
  },
  {
   "cell_type": "code",
   "execution_count": 6,
   "metadata": {},
   "outputs": [
    {
     "name": "stdout",
     "output_type": "stream",
     "text": [
      "Original class distribution: Counter({5: 483, 6: 462, 7: 143, 4: 33, 8: 16, 3: 6})\n",
      "Class distribution after SMOTE: Counter({5: 483, 6: 483, 7: 483, 4: 483, 8: 483, 3: 483})\n"
     ]
    }
   ],
   "source": [
    "# Check the original distribution of classes\n",
    "print(\"Original class distribution:\", Counter(Y))\n",
    "# Check the new distribution of classes after SMOTE\n",
    "print(\"Class distribution after SMOTE:\", Counter(Y_resampled))"
   ]
  },
  {
   "cell_type": "code",
   "execution_count": 7,
   "metadata": {},
   "outputs": [],
   "source": [
    "# Create a new DataFrame from the resampled data\n",
    "augmented_data = pd.DataFrame(X_resampled, columns=X.columns)\n",
    "augmented_data[target] = Y_resampled"
   ]
  },
  {
   "cell_type": "code",
   "execution_count": 8,
   "metadata": {},
   "outputs": [],
   "source": [
    "# Shuffle the augmented dataset\n",
    "augmented_data = augmented_data.sample(frac=1, random_state=42).reset_index(drop=True)"
   ]
  },
  {
   "cell_type": "code",
   "execution_count": 9,
   "metadata": {},
   "outputs": [
    {
     "name": "stdout",
     "output_type": "stream",
     "text": [
      "Augmented data saved to ..\\data\\data_1_processed.csv\n"
     ]
    }
   ],
   "source": [
    "# Save the augmented DataFrame to a new CSV file\n",
    "augmented_data.to_csv(r'..\\data\\data_1_processed.csv', index=False)\n",
    "print(\"Augmented data saved to ..\\\\data\\\\data_1_processed.csv\")"
   ]
  }
 ],
 "metadata": {
  "kernelspec": {
   "display_name": "Python 3",
   "language": "python",
   "name": "python3"
  },
  "language_info": {
   "codemirror_mode": {
    "name": "ipython",
    "version": 3
   },
   "file_extension": ".py",
   "mimetype": "text/x-python",
   "name": "python",
   "nbconvert_exporter": "python",
   "pygments_lexer": "ipython3",
   "version": "3.10.5"
  }
 },
 "nbformat": 4,
 "nbformat_minor": 2
}

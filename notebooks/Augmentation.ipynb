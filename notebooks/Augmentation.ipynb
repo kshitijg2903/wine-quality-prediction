{
 "cells": [
  {
   "cell_type": "code",
   "execution_count": 12,
   "metadata": {},
   "outputs": [],
   "source": [
    "import pandas as pd\n",
    "from imblearn.over_sampling import SMOTE\n",
    "from collections import Counter\n",
    "from sklearn.model_selection import train_test_split"
   ]
  },
  {
   "cell_type": "code",
   "execution_count": 13,
   "metadata": {},
   "outputs": [],
   "source": [
    "# Function to load data from a CSV file\n",
    "def load_data(file_path):\n",
    "    dataframe = pd.read_csv(file_path)\n",
    "    return dataframe\n",
    "\n",
    "# Load your data\n",
    "dataframe = load_data(\"..\\data\\data_1.csv\")"
   ]
  },
  {
   "cell_type": "code",
   "execution_count": 14,
   "metadata": {},
   "outputs": [],
   "source": [
    "# Set target and features\n",
    "target = \"quality\"\n",
    "X = dataframe.drop([target, \"Id\"], axis=1)\n",
    "Y = dataframe[target]"
   ]
  },
  {
   "cell_type": "code",
   "execution_count": 15,
   "metadata": {},
   "outputs": [],
   "source": [
    "# Apply SMOTE to balance the training data\n",
    "smote = SMOTE(sampling_strategy='auto', random_state=42)\n",
    "X_resampled, Y_resampled = smote.fit_resample(X, Y)"
   ]
  },
  {
   "cell_type": "code",
   "execution_count": 16,
   "metadata": {},
   "outputs": [
    {
     "name": "stdout",
     "output_type": "stream",
     "text": [
      "Original class distribution: Counter({5: 483, 6: 462, 7: 143, 4: 33, 8: 16, 3: 6})\n",
      "Class distribution after SMOTE: Counter({5: 483, 6: 483, 7: 483, 4: 483, 8: 483, 3: 483})\n"
     ]
    }
   ],
   "source": [
    "# Check the original distribution of classes\n",
    "print(\"Original class distribution:\", Counter(Y))\n",
    "# Check the new distribution of classes after SMOTE\n",
    "print(\"Class distribution after SMOTE:\", Counter(Y_resampled))"
   ]
  },
  {
   "cell_type": "code",
   "execution_count": 17,
   "metadata": {},
   "outputs": [
    {
     "name": "stdout",
     "output_type": "stream",
     "text": [
      "Augmented data saved to ..\\data\\data_1_augmented.csv\n"
     ]
    }
   ],
   "source": [
    "# Create a new DataFrame from the resampled data\n",
    "augmented_data = pd.DataFrame(X_resampled, columns=X.columns)\n",
    "augmented_data[target] = Y_resampled\n",
    "\n",
    "# Save the augmented DataFrame to a new CSV file\n",
    "augmented_data.to_csv(r'..\\data\\data_1_augmented.csv', index=False)\n",
    "\n",
    "print(\"Augmented data saved to ..\\\\data\\\\data_1_augmented.csv\")"
   ]
  }
 ],
 "metadata": {
  "kernelspec": {
   "display_name": "Python 3",
   "language": "python",
   "name": "python3"
  },
  "language_info": {
   "codemirror_mode": {
    "name": "ipython",
    "version": 3
   },
   "file_extension": ".py",
   "mimetype": "text/x-python",
   "name": "python",
   "nbconvert_exporter": "python",
   "pygments_lexer": "ipython3",
   "version": "3.10.5"
  }
 },
 "nbformat": 4,
 "nbformat_minor": 2
}
